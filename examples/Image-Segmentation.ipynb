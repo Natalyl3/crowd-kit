{
  "nbformat": 4,
  "nbformat_minor": 0,
  "metadata": {
    "colab": {
      "provenance": []
    },
    "kernelspec": {
      "name": "python3",
      "display_name": "Python 3"
    },
    "language_info": {
      "name": "python"
    }
  },
  "cells": [
    {
      "cell_type": "markdown",
      "source": [
        "Welcome to this tutorial! Have you done with the image segmentation  with crowdsourcing and now you need to somehow get the final results? Find out how to aggregate the data with methods from Crowd-Kit library by Toloka!"
      ],
      "metadata": {
        "id": "xRo4EOsEm0T3"
      }
    },
    {
      "cell_type": "markdown",
      "source": [
        "First of all, let's install and import necessary libraries"
      ],
      "metadata": {
        "id": "-7bznAmgnm8v"
      }
    },
    {
      "cell_type": "code",
      "execution_count": 1,
      "metadata": {
        "id": "Pk-FEs7Qth1G"
      },
      "outputs": [],
      "source": [
        "%%capture\n",
        "import pandas as pd\n",
        "import numpy as np\n",
        "%pip install crowd-kit"
      ]
    },
    {
      "cell_type": "markdown",
      "source": [
        "Let's use the mscoco_small data from crowdkit for example and import load_dataset"
      ],
      "metadata": {
        "id": "UoKCwta1n0rb"
      }
    },
    {
      "cell_type": "code",
      "source": [
        "from crowdkit.datasets import load_dataset\n",
        "df, gt = load_dataset('mscoco_small')"
      ],
      "metadata": {
        "colab": {
          "base_uri": "https://localhost:8080/"
        },
        "id": "BA2dNAabvnuw",
        "outputId": "bee34ccf-fa82-46aa-b0e0-6108f05aaa07"
      },
      "execution_count": 3,
      "outputs": [
        {
          "output_type": "stream",
          "name": "stdout",
          "text": [
            "Downloading mscoco_small from remote\n",
            "Unpacking mscoco_small.zip\n"
          ]
        }
      ]
    },
    {
      "cell_type": "markdown",
      "source": [
        "Let's see the structure of our dataset"
      ],
      "metadata": {
        "id": "JXak18NJovOy"
      }
    },
    {
      "cell_type": "code",
      "source": [
        "df.columns"
      ],
      "metadata": {
        "colab": {
          "base_uri": "https://localhost:8080/"
        },
        "id": "5tbGC-rivnxK",
        "outputId": "2fb0f7ad-530d-412c-f0a3-a61604c6bb1c"
      },
      "execution_count": 8,
      "outputs": [
        {
          "output_type": "execute_result",
          "data": {
            "text/plain": [
              "Index(['task', 'worker', 'segmentation'], dtype='object')"
            ]
          },
          "metadata": {},
          "execution_count": 8
        }
      ]
    },
    {
      "cell_type": "markdown",
      "source": [
        "Now let's see how we can solve the aggregation problem with image segmentation. We will use three methods - SegmentationEM, SegmentationMajorityVote, and SegmentationRASA. All these methods solve the same problem - image segmentation aggregation - but in different ways. Let's import them"
      ],
      "metadata": {
        "id": "UfgS_lc1oxQ8"
      }
    },
    {
      "cell_type": "code",
      "source": [
        "from crowdkit.aggregation import SegmentationEM\n",
        "from crowdkit.aggregation import SegmentationMajorityVote\n",
        "from crowdkit.aggregation import SegmentationRASA"
      ],
      "metadata": {
        "id": "7Jh57nBF_nAc"
      },
      "execution_count": 4,
      "outputs": []
    },
    {
      "cell_type": "markdown",
      "source": [
        "Let's use the EM algorithm for the image segmentation task.\n",
        "\n",
        "This method performs a categorical aggregation task for each pixel: should it be included to the resulting aggregate or no. This task is solved by the single coin Dawid-Skene algorithm. Each worker has a latent parameter \"skill\" that shows the probability of this worker to answer correctly. Skills and true pixels' labels are optimized by the Expectation-Maximization algorithm."
      ],
      "metadata": {
        "id": "ZEWzrvXRpQoo"
      }
    },
    {
      "cell_type": "code",
      "source": [
        "result_EM = SegmentationEM().fit_predict(df)"
      ],
      "metadata": {
        "id": "eOXMU9pz_nDK"
      },
      "execution_count": 5,
      "outputs": []
    },
    {
      "cell_type": "markdown",
      "source": [
        "Now, we need to convert our results to numpy array for convenience"
      ],
      "metadata": {
        "id": "wDxOWCBoplBu"
      }
    },
    {
      "cell_type": "code",
      "source": [
        "result_EM = result_EM.to_numpy()\n",
        "gt = gt.to_numpy()"
      ],
      "metadata": {
        "id": "PYHFk7i-B3W3"
      },
      "execution_count": null,
      "outputs": []
    },
    {
      "cell_type": "markdown",
      "source": [
        "We will use the IOU metric to calculate the efficiency of the methods"
      ],
      "metadata": {
        "id": "QCbjdkbfp49P"
      }
    },
    {
      "cell_type": "code",
      "source": [
        "IOU_EM = np.array([])\n",
        "for i in range(0, len(result_EM)-1):\n",
        "  overlap = result_EM[i]*gt[i] \n",
        "  union = result_EM[i] + gt[i] \n",
        "  IOU_EM = np.append(IOU_EM, overlap.sum()/float(union.sum()))\n",
        "IOU_EM.mean()"
      ],
      "metadata": {
        "colab": {
          "base_uri": "https://localhost:8080/"
        },
        "id": "W8NdMNflOTC6",
        "outputId": "51ef10eb-d108-429b-da2f-daf55ed5293f"
      },
      "execution_count": 25,
      "outputs": [
        {
          "output_type": "execute_result",
          "data": {
            "text/plain": [
              "0.8551840979658429"
            ]
          },
          "metadata": {},
          "execution_count": 25
        }
      ]
    },
    {
      "cell_type": "markdown",
      "source": [
        "The next method - Segmentation Majority Vote - chooses a pixel if more than half of workers voted.\n",
        "\n",
        "This method implements a straightforward approach to the image segmentations aggregation: it assumes that if pixel is not inside in the worker's segmentation, this vote counts as 0, otherwise, as 1. Next, the SegmentationEM aggregates these categorical values for each pixel by the Majority Vote."
      ],
      "metadata": {
        "id": "7M7wLzb9qifS"
      }
    },
    {
      "cell_type": "code",
      "source": [
        "result_MajorityVote = SegmentationMajorityVote().fit_predict(df)\n",
        "result_MajorityVote = result_MajorityVote.to_numpy()"
      ],
      "metadata": {
        "id": "cznr36vlHYR4"
      },
      "execution_count": 27,
      "outputs": []
    },
    {
      "cell_type": "code",
      "source": [
        "IOU_MajorityVote = np.array([])\n",
        "for i in range(0, len(result_MajorityVote)-1):\n",
        "  overlap = result_MajorityVote[i]*gt[i] \n",
        "  union = result_MajorityVote[i] + gt[i] \n",
        "  IOU_MajorityVote = np.append(IOU_MajorityVote, overlap.sum()/float(union.sum()))\n",
        "IOU_MajorityVote.mean()"
      ],
      "metadata": {
        "colab": {
          "base_uri": "https://localhost:8080/"
        },
        "id": "MekbNZN_N7nC",
        "outputId": "b8f8a7ed-66cf-4e57-904a-68e17a960b5c"
      },
      "execution_count": 33,
      "outputs": [
        {
          "output_type": "execute_result",
          "data": {
            "text/plain": [
              "0.8352633625644315"
            ]
          },
          "metadata": {},
          "execution_count": 33
        }
      ]
    },
    {
      "cell_type": "markdown",
      "source": [
        "The last method - Segmentation RASA - chooses a pixel if sum of weighted votes of each workers' more than 0.5.\n",
        "\n",
        "Algorithm works iteratively, at each step, the workers are reweighted in proportion to their distances to the current answer estimation. The distance is considered as 1−IOU. Modification of the RASA method for texts."
      ],
      "metadata": {
        "id": "VShKdS1Aq7D_"
      }
    },
    {
      "cell_type": "code",
      "source": [
        "result_RASA = SegmentationRASA().fit_predict(df)\n",
        "result_RASA = result_RASA.to_numpy()"
      ],
      "metadata": {
        "id": "merwDHwgN7pm"
      },
      "execution_count": 34,
      "outputs": []
    },
    {
      "cell_type": "code",
      "source": [
        "IOU_RASA = np.array([])\n",
        "for i in range(0, len(result_RASA)-1):\n",
        "  overlap = result_RASA[i]*gt[i] \n",
        "  union = result_RASA[i] + gt[i] \n",
        "  IOU_RASA = np.append(IOU_RASA, overlap.sum()/float(union.sum()))\n",
        "IOU_RASA.mean()"
      ],
      "metadata": {
        "colab": {
          "base_uri": "https://localhost:8080/"
        },
        "id": "ef71TMTATAlB",
        "outputId": "37ca6d72-d2a3-4d83-d4a7-078171bcf9c7"
      },
      "execution_count": 36,
      "outputs": [
        {
          "output_type": "execute_result",
          "data": {
            "text/plain": [
              "0.8395562415748342"
            ]
          },
          "metadata": {},
          "execution_count": 36
        }
      ]
    },
    {
      "cell_type": "markdown",
      "source": [
        "See? All the results are quite good but the SegmentationEM shows slightly better result.\n",
        "In this tutorial, we looked at how to deal with the image segmentation aggregation task."
      ],
      "metadata": {
        "id": "iXNkuJ2YrPbb"
      }
    }
  ]
}